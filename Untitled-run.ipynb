{
 "cells": [
  {
   "cell_type": "code",
   "execution_count": 2,
   "metadata": {},
   "outputs": [],
   "source": [
    "import argparse\n",
    "from pathlib import Path\n",
    "import os,sys\n",
    "import subprocess\n",
    "import datetime\n",
    "from loguru import logger\n",
    "\n",
    "from pymol import cmd\n",
    "from openbabel import pybel\n",
    "from typing import List\n",
    "from vinautil.vutils.obabel import PDBQTtoMol2, PDBQTparser\n",
    "from vinautil.vutils.spyrmsd_load import symmrmsd_mol2_list\n",
    "from vinautil.vina import Vina\n",
    "from vinautil.pymolutils.mutagenesis import Mutagenesis_site"
   ]
  },
  {
   "cell_type": "code",
   "execution_count": 3,
   "metadata": {},
   "outputs": [
    {
     "data": {
      "text/plain": [
       "PosixPath('/home/jovyan/work')"
      ]
     },
     "execution_count": 3,
     "metadata": {},
     "output_type": "execute_result"
    }
   ],
   "source": [
    "Path().cwd()"
   ]
  },
  {
   "cell_type": "code",
   "execution_count": 4,
   "metadata": {},
   "outputs": [
    {
     "name": "stdout",
     "output_type": "stream",
     "text": [
      "Add polar hydrogens(Openbabel):  round1-2_ThressComps_1_align.mol2\n"
     ]
    }
   ],
   "source": [
    "# use openbabel add polar hydrogens\n",
    "ligand = Path('round1-2_ThressComps_1_align.mol2')\n",
    "print('Add polar hydrogens(Openbabel): ', ligand.name)\n",
    "molH = pybel.readfile('mol2', ligand.as_posix())\n",
    "molH = next(molH)\n",
    "molH.OBMol.DeleteHydrogens()\n",
    "molH.OBMol.AddPolarHydrogens()\n",
    "molH.write('mol2', ligand.as_posix(), overwrite=True)"
   ]
  },
  {
   "cell_type": "code",
   "execution_count": 6,
   "metadata": {},
   "outputs": [],
   "source": [
    "from vinautil.scardock import SCARdockbase\n"
   ]
  },
  {
   "cell_type": "code",
   "execution_count": 7,
   "metadata": {},
   "outputs": [
    {
     "name": "stdout",
     "output_type": "stream",
     "text": [
      "Mutagenesis site:  48\n",
      "Selected!\n",
      " ExecutiveRMSPairs: RMSD =    0.030 (3 to 3 atoms)\n",
      " Mutagenesis: no rotamers found in library.\n"
     ]
    },
    {
     "name": "stderr",
     "output_type": "stream",
     "text": [
      "/bin/sh: 1: /opt/conda/bin/python2: not found\n",
      "\u001b[32m2023-12-27 15:14:13.726\u001b[0m | \u001b[1mINFO    \u001b[0m | \u001b[36mvinautil.scardock\u001b[0m:\u001b[36mSCARdockbase\u001b[0m:\u001b[36m114\u001b[0m - \u001b[1mTask record : 2023-12-27 15:14:13.726406:\n",
      " \u001b[0m\n",
      "/opt/conda/bin/python3: can't open file '/opt/conda/bin/mk_prepare_ligand.py': [Errno 2] No such file or directory\n",
      "\u001b[32m2023-12-27 15:14:13.849\u001b[0m | \u001b[1mINFO    \u001b[0m | \u001b[36mvinautil.scardock\u001b[0m:\u001b[36mSCARdockbase\u001b[0m:\u001b[36m133\u001b[0m - \u001b[1mTask record : 2023-12-27 15:14:13.849413:\n",
      " \u001b[0m\n"
     ]
    },
    {
     "name": "stdout",
     "output_type": "stream",
     "text": [
      "Selected!\n",
      " ExecutiveRMSPairs: RMSD =    0.011 (3 to 3 atoms)\n",
      " Mutagenesis: no rotamers found in library.\n",
      "Prepare PDBQT receptor file:  7nwk-CDK9_clean_48G.pdb\n",
      "Add polar hydrogens(Openbabel):  round1-2_ThressComps_1_align.mol2\n",
      "Prepare PDBQT ligand file:  round1-2_ThressComps_1_align.mol2\n",
      "Covalent residue beta carbon coordinate(center):  [-37.82899856567383, -33.5620002746582, -8.100000381469727]\n",
      "The molecular coordinates of the input mol2 file should be within a range of 40 angstroms, with the covalent residue's beta carbon atom as the center of the extended box.\n"
     ]
    },
    {
     "ename": "RuntimeError",
     "evalue": "Error: file round1-2_ThressComps_1_align.pdbqt does not exist.",
     "output_type": "error",
     "traceback": [
      "\u001b[0;31m---------------------------------------------------------------------------\u001b[0m",
      "\u001b[0;31mRuntimeError\u001b[0m                              Traceback (most recent call last)",
      "Cell \u001b[0;32mIn[7], line 1\u001b[0m\n\u001b[0;32m----> 1\u001b[0m \u001b[43mSCARdockbase\u001b[49m\u001b[43m(\u001b[49m\u001b[43mreceptor\u001b[49m\u001b[38;5;241;43m=\u001b[39;49m\u001b[43mPath\u001b[49m\u001b[43m(\u001b[49m\u001b[38;5;124;43m'\u001b[39;49m\u001b[38;5;124;43m7nwk-CDK9.pdb\u001b[39;49m\u001b[38;5;124;43m'\u001b[39;49m\u001b[43m)\u001b[49m\u001b[43m,\u001b[49m\u001b[43m \u001b[49m\u001b[43mligand\u001b[49m\u001b[38;5;241;43m=\u001b[39;49m\u001b[43mPath\u001b[49m\u001b[43m(\u001b[49m\u001b[38;5;124;43m'\u001b[39;49m\u001b[38;5;124;43mround1-2_ThressComps_1_align.mol2\u001b[39;49m\u001b[38;5;124;43m'\u001b[39;49m\u001b[43m)\u001b[49m\u001b[43m,\u001b[49m\u001b[43m \u001b[49m\u001b[43mchain\u001b[49m\u001b[38;5;241;43m=\u001b[39;49m\u001b[38;5;124;43m'\u001b[39;49m\u001b[38;5;124;43mA\u001b[39;49m\u001b[38;5;124;43m'\u001b[39;49m\u001b[43m,\u001b[49m\u001b[43m \u001b[49m\u001b[43msite\u001b[49m\u001b[38;5;241;43m=\u001b[39;49m\u001b[38;5;124;43m'\u001b[39;49m\u001b[38;5;124;43m48\u001b[39;49m\u001b[38;5;124;43m'\u001b[39;49m\u001b[43m)\u001b[49m\n",
      "File \u001b[0;32m/opt/conda/envs/scardock/lib/python3.10/site-packages/vinautil/scardock.py:148\u001b[0m, in \u001b[0;36mSCARdockbase\u001b[0;34m(receptor, ligand, chain, site)\u001b[0m\n\u001b[1;32m    145\u001b[0m \u001b[38;5;66;03m# SCARdock docking\u001b[39;00m\n\u001b[1;32m    146\u001b[0m \u001b[38;5;66;03m# ! be careful, orginal molecule coordinate should in docking box\u001b[39;00m\n\u001b[1;32m    147\u001b[0m \u001b[38;5;28mprint\u001b[39m(\u001b[38;5;124m\"\u001b[39m\u001b[38;5;124mThe molecular coordinates of the input mol2 file should be within a range of 40 angstroms, with the covalent residue\u001b[39m\u001b[38;5;124m'\u001b[39m\u001b[38;5;124ms beta carbon atom as the center of the extended box.\u001b[39m\u001b[38;5;124m\"\u001b[39m)\n\u001b[0;32m--> 148\u001b[0m docked_file \u001b[38;5;241m=\u001b[39m \u001b[43mdockvina\u001b[49m\u001b[43m(\u001b[49m\u001b[43mreceptor\u001b[49m\u001b[38;5;241;43m=\u001b[39;49m\u001b[43mreceptor_pdbqt\u001b[49m\u001b[43m,\u001b[49m\u001b[43m \u001b[49m\u001b[43mligand\u001b[49m\u001b[38;5;241;43m=\u001b[39;49m\u001b[43mligand_pdbqt\u001b[49m\u001b[43m,\u001b[49m\u001b[43m \u001b[49m\u001b[43mcenter\u001b[49m\u001b[38;5;241;43m=\u001b[39;49m\u001b[43mcenter\u001b[49m\u001b[43m,\u001b[49m\u001b[43m \u001b[49m\u001b[43mbox_size\u001b[49m\u001b[38;5;241;43m=\u001b[39;49m\u001b[43m[\u001b[49m\u001b[38;5;241;43m40\u001b[39;49m\u001b[43m,\u001b[49m\u001b[43m \u001b[49m\u001b[38;5;241;43m40\u001b[39;49m\u001b[43m,\u001b[49m\u001b[43m \u001b[49m\u001b[38;5;241;43m40\u001b[39;49m\u001b[43m]\u001b[49m\u001b[43m,\u001b[49m\u001b[43m \u001b[49m\u001b[43mexhaustiveness\u001b[49m\u001b[38;5;241;43m=\u001b[39;49m\u001b[38;5;241;43m32\u001b[39;49m\u001b[43m,\u001b[49m\u001b[43mn_poses\u001b[49m\u001b[38;5;241;43m=\u001b[39;49m\u001b[38;5;241;43m20\u001b[39;49m\u001b[43m,\u001b[49m\u001b[43mout_n_poses\u001b[49m\u001b[43m \u001b[49m\u001b[38;5;241;43m=\u001b[39;49m\u001b[43m \u001b[49m\u001b[38;5;241;43m20\u001b[39;49m\u001b[43m)\u001b[49m\n\u001b[1;32m    149\u001b[0m \u001b[38;5;66;03m# restore mol2\u001b[39;00m\n\u001b[1;32m    150\u001b[0m \u001b[38;5;28mprint\u001b[39m(\u001b[38;5;124m'\u001b[39m\u001b[38;5;124mRestore mol2 file: \u001b[39m\u001b[38;5;124m'\u001b[39m, ligand\u001b[38;5;241m.\u001b[39mname)\n",
      "File \u001b[0;32m/opt/conda/envs/scardock/lib/python3.10/site-packages/vinautil/scardock.py:30\u001b[0m, in \u001b[0;36mdockvina\u001b[0;34m(receptor, ligand, center, box_size, exhaustiveness, n_poses, out_n_poses)\u001b[0m\n\u001b[1;32m     28\u001b[0m v \u001b[38;5;241m=\u001b[39m Vina(sf_name\u001b[38;5;241m=\u001b[39m\u001b[38;5;124m'\u001b[39m\u001b[38;5;124mvina\u001b[39m\u001b[38;5;124m'\u001b[39m)\n\u001b[1;32m     29\u001b[0m v\u001b[38;5;241m.\u001b[39mset_receptor(receptor\u001b[38;5;241m.\u001b[39mas_posix())\n\u001b[0;32m---> 30\u001b[0m \u001b[43mv\u001b[49m\u001b[38;5;241;43m.\u001b[39;49m\u001b[43mset_ligand_from_file\u001b[49m\u001b[43m(\u001b[49m\u001b[43mligand\u001b[49m\u001b[38;5;241;43m.\u001b[39;49m\u001b[43mas_posix\u001b[49m\u001b[43m(\u001b[49m\u001b[43m)\u001b[49m\u001b[43m)\u001b[49m\n\u001b[1;32m     31\u001b[0m v\u001b[38;5;241m.\u001b[39mcompute_vina_maps(center\u001b[38;5;241m=\u001b[39mcenter, box_size\u001b[38;5;241m=\u001b[39mbox_size)\n\u001b[1;32m     32\u001b[0m \u001b[38;5;66;03m# Score the current pose\u001b[39;00m\n",
      "File \u001b[0;32m/opt/conda/envs/scardock/lib/python3.10/site-packages/vinautil/vina.py:176\u001b[0m, in \u001b[0;36mVina.set_ligand_from_file\u001b[0;34m(self, pdbqt_filename)\u001b[0m\n\u001b[1;32m    174\u001b[0m \u001b[38;5;28;01mfor\u001b[39;00m pf \u001b[38;5;129;01min\u001b[39;00m pdbqt_filename:\n\u001b[1;32m    175\u001b[0m     \u001b[38;5;28;01mif\u001b[39;00m \u001b[38;5;129;01mnot\u001b[39;00m os\u001b[38;5;241m.\u001b[39mpath\u001b[38;5;241m.\u001b[39mexists(pf):\n\u001b[0;32m--> 176\u001b[0m         \u001b[38;5;28;01mraise\u001b[39;00m \u001b[38;5;167;01mRuntimeError\u001b[39;00m(\u001b[38;5;124m'\u001b[39m\u001b[38;5;124mError: file \u001b[39m\u001b[38;5;132;01m%s\u001b[39;00m\u001b[38;5;124m does not exist.\u001b[39m\u001b[38;5;124m'\u001b[39m \u001b[38;5;241m%\u001b[39m pf)\n\u001b[1;32m    177\u001b[0m     _, extension \u001b[38;5;241m=\u001b[39m os\u001b[38;5;241m.\u001b[39mpath\u001b[38;5;241m.\u001b[39msplitext(pf)\n\u001b[1;32m    178\u001b[0m     \u001b[38;5;28;01mif\u001b[39;00m \u001b[38;5;129;01mnot\u001b[39;00m extension \u001b[38;5;241m==\u001b[39m \u001b[38;5;124m'\u001b[39m\u001b[38;5;124m.pdbqt\u001b[39m\u001b[38;5;124m'\u001b[39m:\n",
      "\u001b[0;31mRuntimeError\u001b[0m: Error: file round1-2_ThressComps_1_align.pdbqt does not exist."
     ]
    }
   ],
   "source": [
    "SCARdockbase(receptor=Path('7nwk-CDK9.pdb'), ligand=Path('round1-2_ThressComps_1_align.mol2'), chain='A', site='48')"
   ]
  },
  {
   "cell_type": "code",
   "execution_count": 11,
   "metadata": {},
   "outputs": [],
   "source": [
    "conda_prefix = Path(os.environ.get('CONDA_PREFIX'))\n",
    "mk_prepare_ligand = conda_prefix.joinpath('bin/mk_prepare_ligand.py')"
   ]
  },
  {
   "cell_type": "code",
   "execution_count": 12,
   "metadata": {},
   "outputs": [
    {
     "data": {
      "text/plain": [
       "PosixPath('/opt/conda/bin/mk_prepare_ligand.py')"
      ]
     },
     "execution_count": 12,
     "metadata": {},
     "output_type": "execute_result"
    }
   ],
   "source": [
    "mk_prepare_ligand"
   ]
  },
  {
   "cell_type": "code",
   "execution_count": 13,
   "metadata": {},
   "outputs": [
    {
     "data": {
      "text/plain": [
       "PosixPath('/opt/conda')"
      ]
     },
     "execution_count": 13,
     "metadata": {},
     "output_type": "execute_result"
    }
   ],
   "source": [
    "conda_prefix"
   ]
  },
  {
   "cell_type": "code",
   "execution_count": 14,
   "metadata": {},
   "outputs": [],
   "source": [
    "conda_prefix = os.environ.get('CONDA_PREFIX')"
   ]
  },
  {
   "cell_type": "code",
   "execution_count": 15,
   "metadata": {},
   "outputs": [
    {
     "data": {
      "text/plain": [
       "'/opt/conda'"
      ]
     },
     "execution_count": 15,
     "metadata": {},
     "output_type": "execute_result"
    }
   ],
   "source": [
    "conda_prefix"
   ]
  },
  {
   "cell_type": "code",
   "execution_count": null,
   "metadata": {},
   "outputs": [],
   "source": []
  }
 ],
 "metadata": {
  "kernelspec": {
   "display_name": "SCARdock",
   "language": "python",
   "name": "scardock"
  },
  "language_info": {
   "codemirror_mode": {
    "name": "ipython",
    "version": 3
   },
   "file_extension": ".py",
   "mimetype": "text/x-python",
   "name": "python",
   "nbconvert_exporter": "python",
   "pygments_lexer": "ipython3",
   "version": "3.10.13"
  }
 },
 "nbformat": 4,
 "nbformat_minor": 2
}
